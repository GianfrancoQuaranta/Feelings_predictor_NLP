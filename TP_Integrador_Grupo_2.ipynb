{
 "cells": [
  {
   "attachments": {},
   "cell_type": "markdown",
   "metadata": {},
   "source": [
    "Este es el archivo para entregar. Falta borrar lo que está indicado, descomentar lo que está indicado, y hacerlo correr con el modelo que finalmnete elijamos con el dataset completo para que queden las salidas."
   ]
  },
  {
   "cell_type": "code",
   "execution_count": 1,
   "metadata": {},
   "outputs": [
    {
     "name": "stderr",
     "output_type": "stream",
     "text": [
      "[nltk_data] Downloading package stopwords to\n",
      "[nltk_data]     C:\\Users\\Usuario\\AppData\\Roaming\\nltk_data...\n",
      "[nltk_data]   Package stopwords is already up-to-date!\n",
      "[nltk_data] Downloading package wordnet to\n",
      "[nltk_data]     C:\\Users\\Usuario\\AppData\\Roaming\\nltk_data...\n",
      "[nltk_data]   Package wordnet is already up-to-date!\n"
     ]
    }
   ],
   "source": [
    "# import of external modules;\n",
    "import pandas as pd\n",
    "import numpy as np\n",
    "import seaborn as sns\n",
    "import matplotlib.pyplot as plt\n",
    "import nltk\n",
    "from nltk.tokenize import word_tokenize, sent_tokenize\n",
    "from nltk.stem import WordNetLemmatizer\n",
    "nltk.download('stopwords')\n",
    "from nltk.corpus import stopwords \n",
    "from nltk.stem.snowball import SnowballStemmer\n",
    "from sklearn.feature_extraction.text import CountVectorizer, TfidfTransformer,TfidfVectorizer\n",
    "nltk.download('wordnet')\n",
    "from nltk.stem import WordNetLemmatizer\n",
    "from sklearn.model_selection import train_test_split,GridSearchCV,StratifiedKFold\n",
    "from sklearn.naive_bayes import MultinomialNB,GaussianNB\n",
    "from sklearn.linear_model import LogisticRegression,LogisticRegressionCV\n",
    "from sklearn.metrics import accuracy_score,confusion_matrix,classification_report\n",
    "from sklearn.pipeline import Pipeline\n",
    "from sklearn.decomposition import TruncatedSVD\n",
    "from sklearn.preprocessing import FunctionTransformer\n",
    "from sklearn.base import BaseEstimator, TransformerMixin\n",
    "from imblearn.under_sampling import RandomUnderSampler\n",
    "from sklearn import tree\n",
    "from sklearn.ensemble import RandomForestClassifier\n",
    "from sklearn.ensemble import AdaBoostClassifier\n",
    "from sklearn.tree import DecisionTreeClassifier"
   ]
  },
  {
   "cell_type": "code",
   "execution_count": 2,
   "metadata": {},
   "outputs": [],
   "source": [
    "# Import own modules;\n",
    "from modules import CrearSentiment \n",
    "from modules import DropDuplicated\n",
    "from modules import FillNa\n",
    "from modules import UnirColumnas\n",
    "from modules import FeatureSelection\n",
    "from modules import stemfrases\n",
    "from modules import Stemmer_English"
   ]
  },
  {
   "cell_type": "code",
   "execution_count": 3,
   "metadata": {},
   "outputs": [
    {
     "data": {
      "text/html": [
       "<div>\n",
       "<style scoped>\n",
       "    .dataframe tbody tr th:only-of-type {\n",
       "        vertical-align: middle;\n",
       "    }\n",
       "\n",
       "    .dataframe tbody tr th {\n",
       "        vertical-align: top;\n",
       "    }\n",
       "\n",
       "    .dataframe thead th {\n",
       "        text-align: right;\n",
       "    }\n",
       "</style>\n",
       "<table border=\"1\" class=\"dataframe\">\n",
       "  <thead>\n",
       "    <tr style=\"text-align: right;\">\n",
       "      <th></th>\n",
       "      <th>Id</th>\n",
       "      <th>ProductId</th>\n",
       "      <th>UserId</th>\n",
       "      <th>ProfileName</th>\n",
       "      <th>HelpfulnessNumerator</th>\n",
       "      <th>HelpfulnessDenominator</th>\n",
       "      <th>Score</th>\n",
       "      <th>Time</th>\n",
       "      <th>Summary</th>\n",
       "      <th>Text</th>\n",
       "    </tr>\n",
       "  </thead>\n",
       "  <tbody>\n",
       "    <tr>\n",
       "      <th>0</th>\n",
       "      <td>1</td>\n",
       "      <td>B001E4KFG0</td>\n",
       "      <td>A3SGXH7AUHU8GW</td>\n",
       "      <td>delmartian</td>\n",
       "      <td>1</td>\n",
       "      <td>1</td>\n",
       "      <td>5</td>\n",
       "      <td>1303862400</td>\n",
       "      <td>Good Quality Dog Food</td>\n",
       "      <td>I have bought several of the Vitality canned d...</td>\n",
       "    </tr>\n",
       "    <tr>\n",
       "      <th>1</th>\n",
       "      <td>2</td>\n",
       "      <td>B00813GRG4</td>\n",
       "      <td>A1D87F6ZCVE5NK</td>\n",
       "      <td>dll pa</td>\n",
       "      <td>0</td>\n",
       "      <td>0</td>\n",
       "      <td>1</td>\n",
       "      <td>1346976000</td>\n",
       "      <td>Not as Advertised</td>\n",
       "      <td>Product arrived labeled as Jumbo Salted Peanut...</td>\n",
       "    </tr>\n",
       "    <tr>\n",
       "      <th>2</th>\n",
       "      <td>3</td>\n",
       "      <td>B000LQOCH0</td>\n",
       "      <td>ABXLMWJIXXAIN</td>\n",
       "      <td>Natalia Corres \"Natalia Corres\"</td>\n",
       "      <td>1</td>\n",
       "      <td>1</td>\n",
       "      <td>4</td>\n",
       "      <td>1219017600</td>\n",
       "      <td>\"Delight\" says it all</td>\n",
       "      <td>This is a confection that has been around a fe...</td>\n",
       "    </tr>\n",
       "    <tr>\n",
       "      <th>3</th>\n",
       "      <td>4</td>\n",
       "      <td>B000UA0QIQ</td>\n",
       "      <td>A395BORC6FGVXV</td>\n",
       "      <td>Karl</td>\n",
       "      <td>3</td>\n",
       "      <td>3</td>\n",
       "      <td>2</td>\n",
       "      <td>1307923200</td>\n",
       "      <td>Cough Medicine</td>\n",
       "      <td>If you are looking for the secret ingredient i...</td>\n",
       "    </tr>\n",
       "    <tr>\n",
       "      <th>4</th>\n",
       "      <td>5</td>\n",
       "      <td>B006K2ZZ7K</td>\n",
       "      <td>A1UQRSCLF8GW1T</td>\n",
       "      <td>Michael D. Bigham \"M. Wassir\"</td>\n",
       "      <td>0</td>\n",
       "      <td>0</td>\n",
       "      <td>5</td>\n",
       "      <td>1350777600</td>\n",
       "      <td>Great taffy</td>\n",
       "      <td>Great taffy at a great price.  There was a wid...</td>\n",
       "    </tr>\n",
       "  </tbody>\n",
       "</table>\n",
       "</div>"
      ],
      "text/plain": [
       "   Id   ProductId          UserId                      ProfileName  \\\n",
       "0   1  B001E4KFG0  A3SGXH7AUHU8GW                       delmartian   \n",
       "1   2  B00813GRG4  A1D87F6ZCVE5NK                           dll pa   \n",
       "2   3  B000LQOCH0   ABXLMWJIXXAIN  Natalia Corres \"Natalia Corres\"   \n",
       "3   4  B000UA0QIQ  A395BORC6FGVXV                             Karl   \n",
       "4   5  B006K2ZZ7K  A1UQRSCLF8GW1T    Michael D. Bigham \"M. Wassir\"   \n",
       "\n",
       "   HelpfulnessNumerator  HelpfulnessDenominator  Score        Time  \\\n",
       "0                     1                       1      5  1303862400   \n",
       "1                     0                       0      1  1346976000   \n",
       "2                     1                       1      4  1219017600   \n",
       "3                     3                       3      2  1307923200   \n",
       "4                     0                       0      5  1350777600   \n",
       "\n",
       "                 Summary                                               Text  \n",
       "0  Good Quality Dog Food  I have bought several of the Vitality canned d...  \n",
       "1      Not as Advertised  Product arrived labeled as Jumbo Salted Peanut...  \n",
       "2  \"Delight\" says it all  This is a confection that has been around a fe...  \n",
       "3         Cough Medicine  If you are looking for the secret ingredient i...  \n",
       "4            Great taffy  Great taffy at a great price.  There was a wid...  "
      ]
     },
     "execution_count": 3,
     "metadata": {},
     "output_type": "execute_result"
    }
   ],
   "source": [
    "data=pd.read_csv(\"Reviews.csv\")\n",
    "data.head()"
   ]
  },
  {
   "cell_type": "code",
   "execution_count": 4,
   "metadata": {},
   "outputs": [
    {
     "data": {
      "text/plain": [
       "(568454, 10)"
      ]
     },
     "execution_count": 4,
     "metadata": {},
     "output_type": "execute_result"
    }
   ],
   "source": [
    "data.shape"
   ]
  },
  {
   "cell_type": "code",
   "execution_count": 5,
   "metadata": {},
   "outputs": [
    {
     "data": {
      "text/plain": [
       "Index(['Id', 'ProductId', 'UserId', 'ProfileName', 'HelpfulnessNumerator',\n",
       "       'HelpfulnessDenominator', 'Score', 'Time', 'Summary', 'Text'],\n",
       "      dtype='object')"
      ]
     },
     "execution_count": 5,
     "metadata": {},
     "output_type": "execute_result"
    }
   ],
   "source": [
    "data.columns"
   ]
  },
  {
   "cell_type": "code",
   "execution_count": 6,
   "metadata": {},
   "outputs": [
    {
     "data": {
      "text/plain": [
       "Id                         0\n",
       "ProductId                  0\n",
       "UserId                     0\n",
       "ProfileName               16\n",
       "HelpfulnessNumerator       0\n",
       "HelpfulnessDenominator     0\n",
       "Score                      0\n",
       "Time                       0\n",
       "Summary                   27\n",
       "Text                       0\n",
       "dtype: int64"
      ]
     },
     "execution_count": 6,
     "metadata": {},
     "output_type": "execute_result"
    }
   ],
   "source": [
    "data.isnull().sum()"
   ]
  },
  {
   "cell_type": "code",
   "execution_count": 7,
   "metadata": {},
   "outputs": [
    {
     "data": {
      "text/plain": [
       "Id                         int64\n",
       "ProductId                 object\n",
       "UserId                    object\n",
       "ProfileName               object\n",
       "HelpfulnessNumerator       int64\n",
       "HelpfulnessDenominator     int64\n",
       "Score                      int64\n",
       "Time                       int64\n",
       "Summary                   object\n",
       "Text                      object\n",
       "dtype: object"
      ]
     },
     "execution_count": 7,
     "metadata": {},
     "output_type": "execute_result"
    }
   ],
   "source": [
    "data.dtypes"
   ]
  },
  {
   "attachments": {},
   "cell_type": "markdown",
   "metadata": {},
   "source": [
    "Consideramos negativos los que tienen score 1 ó 2. Sentiment=1 es negativo, Sentiment=0 es positivo."
   ]
  },
  {
   "cell_type": "code",
   "execution_count": 8,
   "metadata": {},
   "outputs": [
    {
     "data": {
      "text/html": [
       "<div>\n",
       "<style scoped>\n",
       "    .dataframe tbody tr th:only-of-type {\n",
       "        vertical-align: middle;\n",
       "    }\n",
       "\n",
       "    .dataframe tbody tr th {\n",
       "        vertical-align: top;\n",
       "    }\n",
       "\n",
       "    .dataframe thead th {\n",
       "        text-align: right;\n",
       "    }\n",
       "</style>\n",
       "<table border=\"1\" class=\"dataframe\">\n",
       "  <thead>\n",
       "    <tr style=\"text-align: right;\">\n",
       "      <th></th>\n",
       "      <th>Id</th>\n",
       "      <th>ProductId</th>\n",
       "      <th>UserId</th>\n",
       "      <th>ProfileName</th>\n",
       "      <th>HelpfulnessNumerator</th>\n",
       "      <th>HelpfulnessDenominator</th>\n",
       "      <th>Score</th>\n",
       "      <th>Time</th>\n",
       "      <th>Summary</th>\n",
       "      <th>Text</th>\n",
       "      <th>Sentiment</th>\n",
       "    </tr>\n",
       "  </thead>\n",
       "  <tbody>\n",
       "    <tr>\n",
       "      <th>0</th>\n",
       "      <td>1</td>\n",
       "      <td>B001E4KFG0</td>\n",
       "      <td>A3SGXH7AUHU8GW</td>\n",
       "      <td>delmartian</td>\n",
       "      <td>1</td>\n",
       "      <td>1</td>\n",
       "      <td>5</td>\n",
       "      <td>1303862400</td>\n",
       "      <td>Good Quality Dog Food</td>\n",
       "      <td>I have bought several of the Vitality canned d...</td>\n",
       "      <td>0</td>\n",
       "    </tr>\n",
       "    <tr>\n",
       "      <th>1</th>\n",
       "      <td>2</td>\n",
       "      <td>B00813GRG4</td>\n",
       "      <td>A1D87F6ZCVE5NK</td>\n",
       "      <td>dll pa</td>\n",
       "      <td>0</td>\n",
       "      <td>0</td>\n",
       "      <td>1</td>\n",
       "      <td>1346976000</td>\n",
       "      <td>Not as Advertised</td>\n",
       "      <td>Product arrived labeled as Jumbo Salted Peanut...</td>\n",
       "      <td>1</td>\n",
       "    </tr>\n",
       "    <tr>\n",
       "      <th>2</th>\n",
       "      <td>3</td>\n",
       "      <td>B000LQOCH0</td>\n",
       "      <td>ABXLMWJIXXAIN</td>\n",
       "      <td>Natalia Corres \"Natalia Corres\"</td>\n",
       "      <td>1</td>\n",
       "      <td>1</td>\n",
       "      <td>4</td>\n",
       "      <td>1219017600</td>\n",
       "      <td>\"Delight\" says it all</td>\n",
       "      <td>This is a confection that has been around a fe...</td>\n",
       "      <td>0</td>\n",
       "    </tr>\n",
       "    <tr>\n",
       "      <th>3</th>\n",
       "      <td>4</td>\n",
       "      <td>B000UA0QIQ</td>\n",
       "      <td>A395BORC6FGVXV</td>\n",
       "      <td>Karl</td>\n",
       "      <td>3</td>\n",
       "      <td>3</td>\n",
       "      <td>2</td>\n",
       "      <td>1307923200</td>\n",
       "      <td>Cough Medicine</td>\n",
       "      <td>If you are looking for the secret ingredient i...</td>\n",
       "      <td>1</td>\n",
       "    </tr>\n",
       "    <tr>\n",
       "      <th>4</th>\n",
       "      <td>5</td>\n",
       "      <td>B006K2ZZ7K</td>\n",
       "      <td>A1UQRSCLF8GW1T</td>\n",
       "      <td>Michael D. Bigham \"M. Wassir\"</td>\n",
       "      <td>0</td>\n",
       "      <td>0</td>\n",
       "      <td>5</td>\n",
       "      <td>1350777600</td>\n",
       "      <td>Great taffy</td>\n",
       "      <td>Great taffy at a great price.  There was a wid...</td>\n",
       "      <td>0</td>\n",
       "    </tr>\n",
       "    <tr>\n",
       "      <th>...</th>\n",
       "      <td>...</td>\n",
       "      <td>...</td>\n",
       "      <td>...</td>\n",
       "      <td>...</td>\n",
       "      <td>...</td>\n",
       "      <td>...</td>\n",
       "      <td>...</td>\n",
       "      <td>...</td>\n",
       "      <td>...</td>\n",
       "      <td>...</td>\n",
       "      <td>...</td>\n",
       "    </tr>\n",
       "    <tr>\n",
       "      <th>568449</th>\n",
       "      <td>568450</td>\n",
       "      <td>B001EO7N10</td>\n",
       "      <td>A28KG5XORO54AY</td>\n",
       "      <td>Lettie D. Carter</td>\n",
       "      <td>0</td>\n",
       "      <td>0</td>\n",
       "      <td>5</td>\n",
       "      <td>1299628800</td>\n",
       "      <td>Will not do without</td>\n",
       "      <td>Great for sesame chicken..this is a good if no...</td>\n",
       "      <td>0</td>\n",
       "    </tr>\n",
       "    <tr>\n",
       "      <th>568450</th>\n",
       "      <td>568451</td>\n",
       "      <td>B003S1WTCU</td>\n",
       "      <td>A3I8AFVPEE8KI5</td>\n",
       "      <td>R. Sawyer</td>\n",
       "      <td>0</td>\n",
       "      <td>0</td>\n",
       "      <td>2</td>\n",
       "      <td>1331251200</td>\n",
       "      <td>disappointed</td>\n",
       "      <td>I'm disappointed with the flavor. The chocolat...</td>\n",
       "      <td>1</td>\n",
       "    </tr>\n",
       "    <tr>\n",
       "      <th>568451</th>\n",
       "      <td>568452</td>\n",
       "      <td>B004I613EE</td>\n",
       "      <td>A121AA1GQV751Z</td>\n",
       "      <td>pksd \"pk_007\"</td>\n",
       "      <td>2</td>\n",
       "      <td>2</td>\n",
       "      <td>5</td>\n",
       "      <td>1329782400</td>\n",
       "      <td>Perfect for our maltipoo</td>\n",
       "      <td>These stars are small, so you can give 10-15 o...</td>\n",
       "      <td>0</td>\n",
       "    </tr>\n",
       "    <tr>\n",
       "      <th>568452</th>\n",
       "      <td>568453</td>\n",
       "      <td>B004I613EE</td>\n",
       "      <td>A3IBEVCTXKNOH</td>\n",
       "      <td>Kathy A. Welch \"katwel\"</td>\n",
       "      <td>1</td>\n",
       "      <td>1</td>\n",
       "      <td>5</td>\n",
       "      <td>1331596800</td>\n",
       "      <td>Favorite Training and reward treat</td>\n",
       "      <td>These are the BEST treats for training and rew...</td>\n",
       "      <td>0</td>\n",
       "    </tr>\n",
       "    <tr>\n",
       "      <th>568453</th>\n",
       "      <td>568454</td>\n",
       "      <td>B001LR2CU2</td>\n",
       "      <td>A3LGQPJCZVL9UC</td>\n",
       "      <td>srfell17</td>\n",
       "      <td>0</td>\n",
       "      <td>0</td>\n",
       "      <td>5</td>\n",
       "      <td>1338422400</td>\n",
       "      <td>Great Honey</td>\n",
       "      <td>I am very satisfied ,product is as advertised,...</td>\n",
       "      <td>0</td>\n",
       "    </tr>\n",
       "  </tbody>\n",
       "</table>\n",
       "<p>568454 rows × 11 columns</p>\n",
       "</div>"
      ],
      "text/plain": [
       "            Id   ProductId          UserId                      ProfileName  \\\n",
       "0            1  B001E4KFG0  A3SGXH7AUHU8GW                       delmartian   \n",
       "1            2  B00813GRG4  A1D87F6ZCVE5NK                           dll pa   \n",
       "2            3  B000LQOCH0   ABXLMWJIXXAIN  Natalia Corres \"Natalia Corres\"   \n",
       "3            4  B000UA0QIQ  A395BORC6FGVXV                             Karl   \n",
       "4            5  B006K2ZZ7K  A1UQRSCLF8GW1T    Michael D. Bigham \"M. Wassir\"   \n",
       "...        ...         ...             ...                              ...   \n",
       "568449  568450  B001EO7N10  A28KG5XORO54AY                 Lettie D. Carter   \n",
       "568450  568451  B003S1WTCU  A3I8AFVPEE8KI5                        R. Sawyer   \n",
       "568451  568452  B004I613EE  A121AA1GQV751Z                    pksd \"pk_007\"   \n",
       "568452  568453  B004I613EE   A3IBEVCTXKNOH          Kathy A. Welch \"katwel\"   \n",
       "568453  568454  B001LR2CU2  A3LGQPJCZVL9UC                         srfell17   \n",
       "\n",
       "        HelpfulnessNumerator  HelpfulnessDenominator  Score        Time  \\\n",
       "0                          1                       1      5  1303862400   \n",
       "1                          0                       0      1  1346976000   \n",
       "2                          1                       1      4  1219017600   \n",
       "3                          3                       3      2  1307923200   \n",
       "4                          0                       0      5  1350777600   \n",
       "...                      ...                     ...    ...         ...   \n",
       "568449                     0                       0      5  1299628800   \n",
       "568450                     0                       0      2  1331251200   \n",
       "568451                     2                       2      5  1329782400   \n",
       "568452                     1                       1      5  1331596800   \n",
       "568453                     0                       0      5  1338422400   \n",
       "\n",
       "                                   Summary  \\\n",
       "0                    Good Quality Dog Food   \n",
       "1                        Not as Advertised   \n",
       "2                    \"Delight\" says it all   \n",
       "3                           Cough Medicine   \n",
       "4                              Great taffy   \n",
       "...                                    ...   \n",
       "568449                 Will not do without   \n",
       "568450                        disappointed   \n",
       "568451            Perfect for our maltipoo   \n",
       "568452  Favorite Training and reward treat   \n",
       "568453                         Great Honey   \n",
       "\n",
       "                                                     Text  Sentiment  \n",
       "0       I have bought several of the Vitality canned d...          0  \n",
       "1       Product arrived labeled as Jumbo Salted Peanut...          1  \n",
       "2       This is a confection that has been around a fe...          0  \n",
       "3       If you are looking for the secret ingredient i...          1  \n",
       "4       Great taffy at a great price.  There was a wid...          0  \n",
       "...                                                   ...        ...  \n",
       "568449  Great for sesame chicken..this is a good if no...          0  \n",
       "568450  I'm disappointed with the flavor. The chocolat...          1  \n",
       "568451  These stars are small, so you can give 10-15 o...          0  \n",
       "568452  These are the BEST treats for training and rew...          0  \n",
       "568453  I am very satisfied ,product is as advertised,...          0  \n",
       "\n",
       "[568454 rows x 11 columns]"
      ]
     },
     "execution_count": 8,
     "metadata": {},
     "output_type": "execute_result"
    }
   ],
   "source": [
    "#La columna target no se puede trabajar dentro del pipeline.\n",
    "crearSentiment=CrearSentiment(\"Score\",2)\n",
    "crearSentiment.transform(data)"
   ]
  },
  {
   "cell_type": "code",
   "execution_count": 9,
   "metadata": {},
   "outputs": [
    {
     "data": {
      "text/plain": [
       "0    486417\n",
       "1     82037\n",
       "Name: Sentiment, dtype: int64"
      ]
     },
     "execution_count": 9,
     "metadata": {},
     "output_type": "execute_result"
    }
   ],
   "source": [
    "data.Sentiment.value_counts()"
   ]
  },
  {
   "cell_type": "code",
   "execution_count": 10,
   "metadata": {},
   "outputs": [
    {
     "data": {
      "text/plain": [
       "0    0.855684\n",
       "1    0.144316\n",
       "Name: Sentiment, dtype: float64"
      ]
     },
     "execution_count": 10,
     "metadata": {},
     "output_type": "execute_result"
    }
   ],
   "source": [
    "data.Sentiment.value_counts(normalize=True)"
   ]
  },
  {
   "attachments": {},
   "cell_type": "markdown",
   "metadata": {},
   "source": [
    "Ho: 85,6%"
   ]
  },
  {
   "cell_type": "code",
   "execution_count": 11,
   "metadata": {},
   "outputs": [
    {
     "data": {
      "text/html": [
       "<div>\n",
       "<style scoped>\n",
       "    .dataframe tbody tr th:only-of-type {\n",
       "        vertical-align: middle;\n",
       "    }\n",
       "\n",
       "    .dataframe tbody tr th {\n",
       "        vertical-align: top;\n",
       "    }\n",
       "\n",
       "    .dataframe thead th {\n",
       "        text-align: right;\n",
       "    }\n",
       "</style>\n",
       "<table border=\"1\" class=\"dataframe\">\n",
       "  <thead>\n",
       "    <tr style=\"text-align: right;\">\n",
       "      <th></th>\n",
       "      <th>Id</th>\n",
       "      <th>ProductId</th>\n",
       "      <th>UserId</th>\n",
       "      <th>ProfileName</th>\n",
       "      <th>HelpfulnessNumerator</th>\n",
       "      <th>HelpfulnessDenominator</th>\n",
       "      <th>Score</th>\n",
       "      <th>Time</th>\n",
       "      <th>Summary</th>\n",
       "      <th>Text</th>\n",
       "      <th>Sentiment</th>\n",
       "    </tr>\n",
       "  </thead>\n",
       "  <tbody>\n",
       "    <tr>\n",
       "      <th>0</th>\n",
       "      <td>1</td>\n",
       "      <td>B001E4KFG0</td>\n",
       "      <td>A3SGXH7AUHU8GW</td>\n",
       "      <td>delmartian</td>\n",
       "      <td>1</td>\n",
       "      <td>1</td>\n",
       "      <td>5</td>\n",
       "      <td>1303862400</td>\n",
       "      <td>Good Quality Dog Food</td>\n",
       "      <td>I have bought several of the Vitality canned d...</td>\n",
       "      <td>0</td>\n",
       "    </tr>\n",
       "    <tr>\n",
       "      <th>1</th>\n",
       "      <td>2</td>\n",
       "      <td>B00813GRG4</td>\n",
       "      <td>A1D87F6ZCVE5NK</td>\n",
       "      <td>dll pa</td>\n",
       "      <td>0</td>\n",
       "      <td>0</td>\n",
       "      <td>1</td>\n",
       "      <td>1346976000</td>\n",
       "      <td>Not as Advertised</td>\n",
       "      <td>Product arrived labeled as Jumbo Salted Peanut...</td>\n",
       "      <td>1</td>\n",
       "    </tr>\n",
       "    <tr>\n",
       "      <th>2</th>\n",
       "      <td>3</td>\n",
       "      <td>B000LQOCH0</td>\n",
       "      <td>ABXLMWJIXXAIN</td>\n",
       "      <td>Natalia Corres \"Natalia Corres\"</td>\n",
       "      <td>1</td>\n",
       "      <td>1</td>\n",
       "      <td>4</td>\n",
       "      <td>1219017600</td>\n",
       "      <td>\"Delight\" says it all</td>\n",
       "      <td>This is a confection that has been around a fe...</td>\n",
       "      <td>0</td>\n",
       "    </tr>\n",
       "    <tr>\n",
       "      <th>3</th>\n",
       "      <td>4</td>\n",
       "      <td>B000UA0QIQ</td>\n",
       "      <td>A395BORC6FGVXV</td>\n",
       "      <td>Karl</td>\n",
       "      <td>3</td>\n",
       "      <td>3</td>\n",
       "      <td>2</td>\n",
       "      <td>1307923200</td>\n",
       "      <td>Cough Medicine</td>\n",
       "      <td>If you are looking for the secret ingredient i...</td>\n",
       "      <td>1</td>\n",
       "    </tr>\n",
       "    <tr>\n",
       "      <th>4</th>\n",
       "      <td>5</td>\n",
       "      <td>B006K2ZZ7K</td>\n",
       "      <td>A1UQRSCLF8GW1T</td>\n",
       "      <td>Michael D. Bigham \"M. Wassir\"</td>\n",
       "      <td>0</td>\n",
       "      <td>0</td>\n",
       "      <td>5</td>\n",
       "      <td>1350777600</td>\n",
       "      <td>Great taffy</td>\n",
       "      <td>Great taffy at a great price.  There was a wid...</td>\n",
       "      <td>0</td>\n",
       "    </tr>\n",
       "    <tr>\n",
       "      <th>...</th>\n",
       "      <td>...</td>\n",
       "      <td>...</td>\n",
       "      <td>...</td>\n",
       "      <td>...</td>\n",
       "      <td>...</td>\n",
       "      <td>...</td>\n",
       "      <td>...</td>\n",
       "      <td>...</td>\n",
       "      <td>...</td>\n",
       "      <td>...</td>\n",
       "      <td>...</td>\n",
       "    </tr>\n",
       "    <tr>\n",
       "      <th>568449</th>\n",
       "      <td>568450</td>\n",
       "      <td>B001EO7N10</td>\n",
       "      <td>A28KG5XORO54AY</td>\n",
       "      <td>Lettie D. Carter</td>\n",
       "      <td>0</td>\n",
       "      <td>0</td>\n",
       "      <td>5</td>\n",
       "      <td>1299628800</td>\n",
       "      <td>Will not do without</td>\n",
       "      <td>Great for sesame chicken..this is a good if no...</td>\n",
       "      <td>0</td>\n",
       "    </tr>\n",
       "    <tr>\n",
       "      <th>568450</th>\n",
       "      <td>568451</td>\n",
       "      <td>B003S1WTCU</td>\n",
       "      <td>A3I8AFVPEE8KI5</td>\n",
       "      <td>R. Sawyer</td>\n",
       "      <td>0</td>\n",
       "      <td>0</td>\n",
       "      <td>2</td>\n",
       "      <td>1331251200</td>\n",
       "      <td>disappointed</td>\n",
       "      <td>I'm disappointed with the flavor. The chocolat...</td>\n",
       "      <td>1</td>\n",
       "    </tr>\n",
       "    <tr>\n",
       "      <th>568451</th>\n",
       "      <td>568452</td>\n",
       "      <td>B004I613EE</td>\n",
       "      <td>A121AA1GQV751Z</td>\n",
       "      <td>pksd \"pk_007\"</td>\n",
       "      <td>2</td>\n",
       "      <td>2</td>\n",
       "      <td>5</td>\n",
       "      <td>1329782400</td>\n",
       "      <td>Perfect for our maltipoo</td>\n",
       "      <td>These stars are small, so you can give 10-15 o...</td>\n",
       "      <td>0</td>\n",
       "    </tr>\n",
       "    <tr>\n",
       "      <th>568452</th>\n",
       "      <td>568453</td>\n",
       "      <td>B004I613EE</td>\n",
       "      <td>A3IBEVCTXKNOH</td>\n",
       "      <td>Kathy A. Welch \"katwel\"</td>\n",
       "      <td>1</td>\n",
       "      <td>1</td>\n",
       "      <td>5</td>\n",
       "      <td>1331596800</td>\n",
       "      <td>Favorite Training and reward treat</td>\n",
       "      <td>These are the BEST treats for training and rew...</td>\n",
       "      <td>0</td>\n",
       "    </tr>\n",
       "    <tr>\n",
       "      <th>568453</th>\n",
       "      <td>568454</td>\n",
       "      <td>B001LR2CU2</td>\n",
       "      <td>A3LGQPJCZVL9UC</td>\n",
       "      <td>srfell17</td>\n",
       "      <td>0</td>\n",
       "      <td>0</td>\n",
       "      <td>5</td>\n",
       "      <td>1338422400</td>\n",
       "      <td>Great Honey</td>\n",
       "      <td>I am very satisfied ,product is as advertised,...</td>\n",
       "      <td>0</td>\n",
       "    </tr>\n",
       "  </tbody>\n",
       "</table>\n",
       "<p>567145 rows × 11 columns</p>\n",
       "</div>"
      ],
      "text/plain": [
       "            Id   ProductId          UserId                      ProfileName  \\\n",
       "0            1  B001E4KFG0  A3SGXH7AUHU8GW                       delmartian   \n",
       "1            2  B00813GRG4  A1D87F6ZCVE5NK                           dll pa   \n",
       "2            3  B000LQOCH0   ABXLMWJIXXAIN  Natalia Corres \"Natalia Corres\"   \n",
       "3            4  B000UA0QIQ  A395BORC6FGVXV                             Karl   \n",
       "4            5  B006K2ZZ7K  A1UQRSCLF8GW1T    Michael D. Bigham \"M. Wassir\"   \n",
       "...        ...         ...             ...                              ...   \n",
       "568449  568450  B001EO7N10  A28KG5XORO54AY                 Lettie D. Carter   \n",
       "568450  568451  B003S1WTCU  A3I8AFVPEE8KI5                        R. Sawyer   \n",
       "568451  568452  B004I613EE  A121AA1GQV751Z                    pksd \"pk_007\"   \n",
       "568452  568453  B004I613EE   A3IBEVCTXKNOH          Kathy A. Welch \"katwel\"   \n",
       "568453  568454  B001LR2CU2  A3LGQPJCZVL9UC                         srfell17   \n",
       "\n",
       "        HelpfulnessNumerator  HelpfulnessDenominator  Score        Time  \\\n",
       "0                          1                       1      5  1303862400   \n",
       "1                          0                       0      1  1346976000   \n",
       "2                          1                       1      4  1219017600   \n",
       "3                          3                       3      2  1307923200   \n",
       "4                          0                       0      5  1350777600   \n",
       "...                      ...                     ...    ...         ...   \n",
       "568449                     0                       0      5  1299628800   \n",
       "568450                     0                       0      2  1331251200   \n",
       "568451                     2                       2      5  1329782400   \n",
       "568452                     1                       1      5  1331596800   \n",
       "568453                     0                       0      5  1338422400   \n",
       "\n",
       "                                   Summary  \\\n",
       "0                    Good Quality Dog Food   \n",
       "1                        Not as Advertised   \n",
       "2                    \"Delight\" says it all   \n",
       "3                           Cough Medicine   \n",
       "4                              Great taffy   \n",
       "...                                    ...   \n",
       "568449                 Will not do without   \n",
       "568450                        disappointed   \n",
       "568451            Perfect for our maltipoo   \n",
       "568452  Favorite Training and reward treat   \n",
       "568453                         Great Honey   \n",
       "\n",
       "                                                     Text  Sentiment  \n",
       "0       I have bought several of the Vitality canned d...          0  \n",
       "1       Product arrived labeled as Jumbo Salted Peanut...          1  \n",
       "2       This is a confection that has been around a fe...          0  \n",
       "3       If you are looking for the secret ingredient i...          1  \n",
       "4       Great taffy at a great price.  There was a wid...          0  \n",
       "...                                                   ...        ...  \n",
       "568449  Great for sesame chicken..this is a good if no...          0  \n",
       "568450  I'm disappointed with the flavor. The chocolat...          1  \n",
       "568451  These stars are small, so you can give 10-15 o...          0  \n",
       "568452  These are the BEST treats for training and rew...          0  \n",
       "568453  I am very satisfied ,product is as advertised,...          0  \n",
       "\n",
       "[567145 rows x 11 columns]"
      ]
     },
     "execution_count": 11,
     "metadata": {},
     "output_type": "execute_result"
    }
   ],
   "source": [
    "dropDuplicated=DropDuplicated([\"UserId\",\"Text\",\"ProductId\"])\n",
    "dropDuplicated.transform(data)\n",
    "#Esto tb tiene que hacerse fuera del pipeline en train. Si esto lo hiciéramos dentro del pipeline pueden quedar de diferente tamaño X e y. Cuando ya está en producción, se puede agregar como paso del pipeline."
   ]
  },
  {
   "cell_type": "code",
   "execution_count": 12,
   "metadata": {},
   "outputs": [],
   "source": [
    "englishStemmer=SnowballStemmer(\"english\")\n",
    "stopwords_en = stopwords.words('english');\n",
    "stopwords_en_stem = [englishStemmer.stem(x) for x in stopwords_en]"
   ]
  },
  {
   "attachments": {},
   "cell_type": "markdown",
   "metadata": {},
   "source": [
    "Esto que sigue es para probar el código completo en una pequeña muestra. Si le ponemos tamaño de muestra igual a la cantidad de datos, corre sobre el dataset completo. Antes de entregar borrar estas líneas y dejar las que están comentadas luego."
   ]
  },
  {
   "cell_type": "code",
   "execution_count": 13,
   "metadata": {},
   "outputs": [],
   "source": [
    "tamano_muestra=100"
   ]
  },
  {
   "cell_type": "code",
   "execution_count": 14,
   "metadata": {},
   "outputs": [],
   "source": [
    "y=data.Sentiment\n",
    "train,test=train_test_split(data,stratify=y,test_size=0.3,random_state=42)"
   ]
  },
  {
   "cell_type": "code",
   "execution_count": 15,
   "metadata": {},
   "outputs": [],
   "source": [
    "tamano_negativo=int(tamano_muestra*0.15)\n",
    "tamano_positivo=tamano_muestra-tamano_negativo\n",
    "#Toma 15% negativos y 85% positivos, que es la proporción del dataset completo."
   ]
  },
  {
   "cell_type": "code",
   "execution_count": 16,
   "metadata": {},
   "outputs": [],
   "source": [
    "train_1=train[train.Sentiment==1].sample(tamano_negativo)"
   ]
  },
  {
   "cell_type": "code",
   "execution_count": 17,
   "metadata": {},
   "outputs": [
    {
     "data": {
      "text/plain": [
       "(15, 11)"
      ]
     },
     "execution_count": 17,
     "metadata": {},
     "output_type": "execute_result"
    }
   ],
   "source": [
    "train_1.shape"
   ]
  },
  {
   "cell_type": "code",
   "execution_count": 18,
   "metadata": {},
   "outputs": [],
   "source": [
    "train_0=train[train.Sentiment==0]"
   ]
  },
  {
   "cell_type": "code",
   "execution_count": 19,
   "metadata": {},
   "outputs": [],
   "source": [
    "train_0=train_0.sample(tamano_positivo)"
   ]
  },
  {
   "cell_type": "code",
   "execution_count": 20,
   "metadata": {},
   "outputs": [
    {
     "data": {
      "text/plain": [
       "(85, 11)"
      ]
     },
     "execution_count": 20,
     "metadata": {},
     "output_type": "execute_result"
    }
   ],
   "source": [
    "train_0.shape"
   ]
  },
  {
   "cell_type": "code",
   "execution_count": 21,
   "metadata": {},
   "outputs": [],
   "source": [
    "train_10k=pd.concat([train_1,train_0])"
   ]
  },
  {
   "cell_type": "code",
   "execution_count": 22,
   "metadata": {},
   "outputs": [
    {
     "data": {
      "text/plain": [
       "(100, 11)"
      ]
     },
     "execution_count": 22,
     "metadata": {},
     "output_type": "execute_result"
    }
   ],
   "source": [
    "train_10k.shape"
   ]
  },
  {
   "cell_type": "code",
   "execution_count": 23,
   "metadata": {},
   "outputs": [
    {
     "data": {
      "text/plain": [
       "0    85\n",
       "1    15\n",
       "Name: Sentiment, dtype: int64"
      ]
     },
     "execution_count": 23,
     "metadata": {},
     "output_type": "execute_result"
    }
   ],
   "source": [
    "train_10k.Sentiment.value_counts()"
   ]
  },
  {
   "cell_type": "code",
   "execution_count": 24,
   "metadata": {},
   "outputs": [],
   "source": [
    "X=train_10k.drop(\"Sentiment\",axis=1)\n",
    "y=train_10k.Sentiment\n",
    "X_train,X_test,y_train,y_test=train_test_split(X,y,stratify=y,random_state=42)"
   ]
  },
  {
   "cell_type": "code",
   "execution_count": 25,
   "metadata": {},
   "outputs": [
    {
     "data": {
      "text/plain": [
       "(0    64\n",
       " 1    11\n",
       " Name: Sentiment, dtype: int64,\n",
       " 0    21\n",
       " 1     4\n",
       " Name: Sentiment, dtype: int64)"
      ]
     },
     "execution_count": 25,
     "metadata": {},
     "output_type": "execute_result"
    }
   ],
   "source": [
    "y_train.value_counts(),y_test.value_counts()"
   ]
  },
  {
   "cell_type": "code",
   "execution_count": 26,
   "metadata": {},
   "outputs": [
    {
     "data": {
      "text/plain": [
       "((75, 10), (25, 10))"
      ]
     },
     "execution_count": 26,
     "metadata": {},
     "output_type": "execute_result"
    }
   ],
   "source": [
    "X_train.shape,X_test.shape\n"
   ]
  },
  {
   "attachments": {},
   "cell_type": "markdown",
   "metadata": {},
   "source": [
    "Borrar celdas anteriores y dejar la de abajo (descomentarla)."
   ]
  },
  {
   "cell_type": "code",
   "execution_count": 27,
   "metadata": {},
   "outputs": [],
   "source": [
    "# X=data.drop(\"Sentiment\",axis=1)\n",
    "# y=data.Sentiment\n",
    "# X_train,X_test,y_train,y_test=train_test_split(X,y,stratify=y,random_state=42)"
   ]
  },
  {
   "attachments": {},
   "cell_type": "markdown",
   "metadata": {},
   "source": [
    "Pipeline!"
   ]
  },
  {
   "cell_type": "code",
   "execution_count": 28,
   "metadata": {},
   "outputs": [],
   "source": [
    "pasos = [(\"llenar_nulos\", FillNa(\" \",\"Summary\")),\n",
    "        ('unir_columnas', UnirColumnas(\"Text\",\"Summary\")),\n",
    "        (\"seleccionar_features\", FeatureSelection(\"Text Summary\")),\n",
    "        ('stemmer',Stemmer_English()),\n",
    "        ('vectorizer', TfidfVectorizer(stop_words=stopwords_en_stem,strip_accents='unicode')), \n",
    "        ('svd', TruncatedSVD()),\n",
    "        ('clasificador', MultinomialNB())]\n",
    "\n",
    "pipe=Pipeline(pasos)\n",
    "folds=StratifiedKFold(n_splits=3,shuffle=True, random_state=42)\n",
    "#Se puede cambiar la cantidad de folds tb."
   ]
  },
  {
   "cell_type": "code",
   "execution_count": 29,
   "metadata": {},
   "outputs": [],
   "source": [
    "param_grid =[\n",
    "                {\"stemmer\":[Stemmer_English(),None],\n",
    "                \"vectorizer\": [TfidfVectorizer(stop_words=stopwords_en_stem,strip_accents='unicode',ngram_range=(1,1)),TfidfVectorizer(stop_words=stopwords_en_stem,strip_accents='unicode',ngram_range=(2,2)),TfidfVectorizer(stop_words=stopwords_en_stem,strip_accents='unicode',ngram_range=(1,2))],\n",
    "                \"svd\":[None,TruncatedSVD(n_components=100),TruncatedSVD(n_components=150)],\n",
    "                'clasificador': [RandomForestClassifier(n_estimators=100, random_state=42)],\n",
    "                },\n",
    "\n",
    "                {\"stemmer\":[Stemmer_English(),None],\n",
    "                \"vectorizer\": [TfidfVectorizer(stop_words=stopwords_en_stem,strip_accents='unicode',ngram_range=(1,1)),TfidfVectorizer(stop_words=stopwords_en_stem,strip_accents='unicode',ngram_range=(2,2)),TfidfVectorizer(stop_words=stopwords_en_stem,strip_accents='unicode',ngram_range=(1,2))],\n",
    "                \"svd\":[None,TruncatedSVD(n_components=100),TruncatedSVD(n_components=150)],\n",
    "                'clasificador': [AdaBoostClassifier(DecisionTreeClassifier(max_depth=2),algorithm='SAMME', n_estimators=500),AdaBoostClassifier(DecisionTreeClassifier(max_depth=3),algorithm='SAMME', n_estimators=500)],\n",
    "                },\n",
    "\n",
    "                {\"stemmer\":[Stemmer_English(),None],\n",
    "                \"vectorizer\": [TfidfVectorizer(stop_words=stopwords_en_stem,strip_accents='unicode',ngram_range=(1,1)),TfidfVectorizer(stop_words=stopwords_en_stem,strip_accents='unicode',ngram_range=(2,2)),TfidfVectorizer(stop_words=stopwords_en_stem,strip_accents='unicode',ngram_range=(1,2))],\n",
    "                \"svd\":[None],\n",
    "                'clasificador': [MultinomialNB()],\n",
    "                'clasificador__alpha':np.arange(0.01,1.01,0.1),\n",
    "                },\n",
    "\n",
    "               {\"stemmer\":[Stemmer_English(),None],\n",
    "                \"vectorizer\": [TfidfVectorizer(stop_words=stopwords_en_stem,strip_accents='unicode',ngram_range=(1,1)),TfidfVectorizer(stop_words=stopwords_en_stem,strip_accents='unicode',ngram_range=(2,2)),TfidfVectorizer(stop_words=stopwords_en_stem,strip_accents='unicode',ngram_range=(1,2))],\n",
    "                \"svd\":[TruncatedSVD(n_components=100),TruncatedSVD(n_components=150)],\n",
    "                'clasificador': [GaussianNB()],\n",
    "                },\n",
    "\n",
    "                {\"stemmer\":[Stemmer_English(),None],\n",
    "                \"vectorizer\": [TfidfVectorizer(stop_words=stopwords_en_stem,strip_accents='unicode',ngram_range=(1,1)),TfidfVectorizer(stop_words=stopwords_en_stem,strip_accents='unicode',ngram_range=(2,2)),TfidfVectorizer(stop_words=stopwords_en_stem,strip_accents='unicode',ngram_range=(1,2))],\n",
    "                \"svd\":[None,TruncatedSVD(n_components=100),TruncatedSVD(n_components=150)],\n",
    "                'clasificador': [LogisticRegression(max_iter=10000)],\n",
    "                'clasificador__C':[10,100,1000],\n",
    "                'clasificador__penalty': ['l2','l1'],                \n",
    "                'clasificador__solver': [\"saga\"],\n",
    "                },\n",
    "\n",
    "                {\"stemmer\":[Stemmer_English(),None],\n",
    "                \"vectorizer\": [TfidfVectorizer(stop_words=stopwords_en_stem,strip_accents='unicode',ngram_range=(1,1)),TfidfVectorizer(stop_words=stopwords_en_stem,strip_accents='unicode',ngram_range=(2,2)),TfidfVectorizer(stop_words=stopwords_en_stem,strip_accents='unicode',ngram_range=(1,2))],\n",
    "                 \"svd\":[None,TruncatedSVD(n_components=100),TruncatedSVD(n_components=150)],\n",
    "                'clasificador': [LogisticRegression(max_iter=10000)],\n",
    "                'clasificador__C':[10,100,1000],\n",
    "                'clasificador__penalty': ['l2'],\n",
    "                'clasificador__solver': ['newton-cg','lbfgs'],               \n",
    "                },\n",
    "\n",
    "                {\"stemmer\":[Stemmer_English(),None],\n",
    "                \"vectorizer\": [TfidfVectorizer(stop_words=stopwords_en_stem,strip_accents='unicode',ngram_range=(1,1)),TfidfVectorizer(stop_words=stopwords_en_stem,strip_accents='unicode',ngram_range=(2,2)),TfidfVectorizer(stop_words=stopwords_en_stem,strip_accents='unicode',ngram_range=(1,2))],\n",
    "                 \"svd\":[None,TruncatedSVD(n_components=100),TruncatedSVD(n_components=150)],\n",
    "                 'clasificador': [LogisticRegression(max_iter=10000)],\n",
    "                'clasificador__penalty': [\"none\"],\n",
    "                'clasificador__solver': [\"saga\"],\n",
    "                },\n",
    "                \n",
    "               ]\n",
    "\n"
   ]
  },
  {
   "cell_type": "code",
   "execution_count": 30,
   "metadata": {},
   "outputs": [
    {
     "data": {
      "text/plain": [
       "(75, 10)"
      ]
     },
     "execution_count": 30,
     "metadata": {},
     "output_type": "execute_result"
    }
   ],
   "source": [
    "X_train.shape"
   ]
  },
  {
   "cell_type": "code",
   "execution_count": 31,
   "metadata": {},
   "outputs": [],
   "source": [
    "grids=[]\n",
    "grid=GridSearchCV(pipe, param_grid, cv=folds)\n",
    "fit=grid.fit(X_train,y_train)\n",
    "grids.append(fit)"
   ]
  },
  {
   "cell_type": "code",
   "execution_count": 32,
   "metadata": {},
   "outputs": [
    {
     "data": {
      "text/html": [
       "<div>\n",
       "<style scoped>\n",
       "    .dataframe tbody tr th:only-of-type {\n",
       "        vertical-align: middle;\n",
       "    }\n",
       "\n",
       "    .dataframe tbody tr th {\n",
       "        vertical-align: top;\n",
       "    }\n",
       "\n",
       "    .dataframe thead th {\n",
       "        text-align: right;\n",
       "    }\n",
       "</style>\n",
       "<table border=\"1\" class=\"dataframe\">\n",
       "  <thead>\n",
       "    <tr style=\"text-align: right;\">\n",
       "      <th></th>\n",
       "      <th>mean_fit_time</th>\n",
       "      <th>std_fit_time</th>\n",
       "      <th>mean_score_time</th>\n",
       "      <th>std_score_time</th>\n",
       "      <th>param_clasificador</th>\n",
       "      <th>param_stemmer</th>\n",
       "      <th>param_svd</th>\n",
       "      <th>param_vectorizer</th>\n",
       "      <th>param_clasificador__alpha</th>\n",
       "      <th>param_clasificador__C</th>\n",
       "      <th>param_clasificador__penalty</th>\n",
       "      <th>param_clasificador__solver</th>\n",
       "      <th>params</th>\n",
       "      <th>split0_test_score</th>\n",
       "      <th>split1_test_score</th>\n",
       "      <th>split2_test_score</th>\n",
       "      <th>mean_test_score</th>\n",
       "      <th>std_test_score</th>\n",
       "      <th>rank_test_score</th>\n",
       "    </tr>\n",
       "  </thead>\n",
       "  <tbody>\n",
       "    <tr>\n",
       "      <th>0</th>\n",
       "      <td>0.319067</td>\n",
       "      <td>0.061408</td>\n",
       "      <td>0.084894</td>\n",
       "      <td>0.019879</td>\n",
       "      <td>RandomForestClassifier(random_state=42)</td>\n",
       "      <td>Stemmer_English()</td>\n",
       "      <td>None</td>\n",
       "      <td>TfidfVectorizer(stop_words=['i', 'me', 'my', '...</td>\n",
       "      <td>NaN</td>\n",
       "      <td>NaN</td>\n",
       "      <td>NaN</td>\n",
       "      <td>NaN</td>\n",
       "      <td>{'clasificador': RandomForestClassifier(random...</td>\n",
       "      <td>0.84</td>\n",
       "      <td>0.84</td>\n",
       "      <td>0.88</td>\n",
       "      <td>0.853333</td>\n",
       "      <td>0.018856</td>\n",
       "      <td>4</td>\n",
       "    </tr>\n",
       "    <tr>\n",
       "      <th>1</th>\n",
       "      <td>0.368574</td>\n",
       "      <td>0.075724</td>\n",
       "      <td>0.090655</td>\n",
       "      <td>0.030559</td>\n",
       "      <td>RandomForestClassifier(random_state=42)</td>\n",
       "      <td>Stemmer_English()</td>\n",
       "      <td>None</td>\n",
       "      <td>TfidfVectorizer(ngram_range=(2, 2),\\n         ...</td>\n",
       "      <td>NaN</td>\n",
       "      <td>NaN</td>\n",
       "      <td>NaN</td>\n",
       "      <td>NaN</td>\n",
       "      <td>{'clasificador': RandomForestClassifier(random...</td>\n",
       "      <td>0.84</td>\n",
       "      <td>0.84</td>\n",
       "      <td>0.88</td>\n",
       "      <td>0.853333</td>\n",
       "      <td>0.018856</td>\n",
       "      <td>4</td>\n",
       "    </tr>\n",
       "    <tr>\n",
       "      <th>2</th>\n",
       "      <td>0.300335</td>\n",
       "      <td>0.036720</td>\n",
       "      <td>0.073331</td>\n",
       "      <td>0.011146</td>\n",
       "      <td>RandomForestClassifier(random_state=42)</td>\n",
       "      <td>Stemmer_English()</td>\n",
       "      <td>None</td>\n",
       "      <td>TfidfVectorizer(ngram_range=(1, 2),\\n         ...</td>\n",
       "      <td>NaN</td>\n",
       "      <td>NaN</td>\n",
       "      <td>NaN</td>\n",
       "      <td>NaN</td>\n",
       "      <td>{'clasificador': RandomForestClassifier(random...</td>\n",
       "      <td>0.84</td>\n",
       "      <td>0.84</td>\n",
       "      <td>0.88</td>\n",
       "      <td>0.853333</td>\n",
       "      <td>0.018856</td>\n",
       "      <td>4</td>\n",
       "    </tr>\n",
       "    <tr>\n",
       "      <th>3</th>\n",
       "      <td>0.366463</td>\n",
       "      <td>0.038040</td>\n",
       "      <td>0.121697</td>\n",
       "      <td>0.051906</td>\n",
       "      <td>RandomForestClassifier(random_state=42)</td>\n",
       "      <td>Stemmer_English()</td>\n",
       "      <td>TruncatedSVD(n_components=100)</td>\n",
       "      <td>TfidfVectorizer(stop_words=['i', 'me', 'my', '...</td>\n",
       "      <td>NaN</td>\n",
       "      <td>NaN</td>\n",
       "      <td>NaN</td>\n",
       "      <td>NaN</td>\n",
       "      <td>{'clasificador': RandomForestClassifier(random...</td>\n",
       "      <td>0.84</td>\n",
       "      <td>0.84</td>\n",
       "      <td>0.88</td>\n",
       "      <td>0.853333</td>\n",
       "      <td>0.018856</td>\n",
       "      <td>4</td>\n",
       "    </tr>\n",
       "    <tr>\n",
       "      <th>4</th>\n",
       "      <td>0.336001</td>\n",
       "      <td>0.007116</td>\n",
       "      <td>0.078000</td>\n",
       "      <td>0.009199</td>\n",
       "      <td>RandomForestClassifier(random_state=42)</td>\n",
       "      <td>Stemmer_English()</td>\n",
       "      <td>TruncatedSVD(n_components=100)</td>\n",
       "      <td>TfidfVectorizer(ngram_range=(2, 2),\\n         ...</td>\n",
       "      <td>NaN</td>\n",
       "      <td>NaN</td>\n",
       "      <td>NaN</td>\n",
       "      <td>NaN</td>\n",
       "      <td>{'clasificador': RandomForestClassifier(random...</td>\n",
       "      <td>0.84</td>\n",
       "      <td>0.84</td>\n",
       "      <td>0.88</td>\n",
       "      <td>0.853333</td>\n",
       "      <td>0.018856</td>\n",
       "      <td>4</td>\n",
       "    </tr>\n",
       "    <tr>\n",
       "      <th>...</th>\n",
       "      <td>...</td>\n",
       "      <td>...</td>\n",
       "      <td>...</td>\n",
       "      <td>...</td>\n",
       "      <td>...</td>\n",
       "      <td>...</td>\n",
       "      <td>...</td>\n",
       "      <td>...</td>\n",
       "      <td>...</td>\n",
       "      <td>...</td>\n",
       "      <td>...</td>\n",
       "      <td>...</td>\n",
       "      <td>...</td>\n",
       "      <td>...</td>\n",
       "      <td>...</td>\n",
       "      <td>...</td>\n",
       "      <td>...</td>\n",
       "      <td>...</td>\n",
       "      <td>...</td>\n",
       "    </tr>\n",
       "    <tr>\n",
       "      <th>355</th>\n",
       "      <td>0.097284</td>\n",
       "      <td>0.005384</td>\n",
       "      <td>0.010001</td>\n",
       "      <td>0.001632</td>\n",
       "      <td>LogisticRegression(max_iter=10000)</td>\n",
       "      <td>None</td>\n",
       "      <td>TruncatedSVD(n_components=100)</td>\n",
       "      <td>TfidfVectorizer(ngram_range=(2, 2),\\n         ...</td>\n",
       "      <td>NaN</td>\n",
       "      <td>NaN</td>\n",
       "      <td>none</td>\n",
       "      <td>saga</td>\n",
       "      <td>{'clasificador': LogisticRegression(max_iter=1...</td>\n",
       "      <td>0.84</td>\n",
       "      <td>0.84</td>\n",
       "      <td>0.88</td>\n",
       "      <td>0.853333</td>\n",
       "      <td>0.018856</td>\n",
       "      <td>4</td>\n",
       "    </tr>\n",
       "    <tr>\n",
       "      <th>356</th>\n",
       "      <td>0.105687</td>\n",
       "      <td>0.003432</td>\n",
       "      <td>0.011997</td>\n",
       "      <td>0.001737</td>\n",
       "      <td>LogisticRegression(max_iter=10000)</td>\n",
       "      <td>None</td>\n",
       "      <td>TruncatedSVD(n_components=100)</td>\n",
       "      <td>TfidfVectorizer(ngram_range=(1, 2),\\n         ...</td>\n",
       "      <td>NaN</td>\n",
       "      <td>NaN</td>\n",
       "      <td>none</td>\n",
       "      <td>saga</td>\n",
       "      <td>{'clasificador': LogisticRegression(max_iter=1...</td>\n",
       "      <td>0.84</td>\n",
       "      <td>0.84</td>\n",
       "      <td>0.88</td>\n",
       "      <td>0.853333</td>\n",
       "      <td>0.018856</td>\n",
       "      <td>4</td>\n",
       "    </tr>\n",
       "    <tr>\n",
       "      <th>357</th>\n",
       "      <td>0.083785</td>\n",
       "      <td>0.004638</td>\n",
       "      <td>0.012670</td>\n",
       "      <td>0.003858</td>\n",
       "      <td>LogisticRegression(max_iter=10000)</td>\n",
       "      <td>None</td>\n",
       "      <td>TruncatedSVD(n_components=150)</td>\n",
       "      <td>TfidfVectorizer(stop_words=['i', 'me', 'my', '...</td>\n",
       "      <td>NaN</td>\n",
       "      <td>NaN</td>\n",
       "      <td>none</td>\n",
       "      <td>saga</td>\n",
       "      <td>{'clasificador': LogisticRegression(max_iter=1...</td>\n",
       "      <td>0.84</td>\n",
       "      <td>0.84</td>\n",
       "      <td>0.88</td>\n",
       "      <td>0.853333</td>\n",
       "      <td>0.018856</td>\n",
       "      <td>4</td>\n",
       "    </tr>\n",
       "    <tr>\n",
       "      <th>358</th>\n",
       "      <td>0.086359</td>\n",
       "      <td>0.010451</td>\n",
       "      <td>0.009668</td>\n",
       "      <td>0.000943</td>\n",
       "      <td>LogisticRegression(max_iter=10000)</td>\n",
       "      <td>None</td>\n",
       "      <td>TruncatedSVD(n_components=150)</td>\n",
       "      <td>TfidfVectorizer(ngram_range=(2, 2),\\n         ...</td>\n",
       "      <td>NaN</td>\n",
       "      <td>NaN</td>\n",
       "      <td>none</td>\n",
       "      <td>saga</td>\n",
       "      <td>{'clasificador': LogisticRegression(max_iter=1...</td>\n",
       "      <td>0.84</td>\n",
       "      <td>0.84</td>\n",
       "      <td>0.88</td>\n",
       "      <td>0.853333</td>\n",
       "      <td>0.018856</td>\n",
       "      <td>4</td>\n",
       "    </tr>\n",
       "    <tr>\n",
       "      <th>359</th>\n",
       "      <td>0.121258</td>\n",
       "      <td>0.016014</td>\n",
       "      <td>0.010357</td>\n",
       "      <td>0.002030</td>\n",
       "      <td>LogisticRegression(max_iter=10000)</td>\n",
       "      <td>None</td>\n",
       "      <td>TruncatedSVD(n_components=150)</td>\n",
       "      <td>TfidfVectorizer(ngram_range=(1, 2),\\n         ...</td>\n",
       "      <td>NaN</td>\n",
       "      <td>NaN</td>\n",
       "      <td>none</td>\n",
       "      <td>saga</td>\n",
       "      <td>{'clasificador': LogisticRegression(max_iter=1...</td>\n",
       "      <td>0.84</td>\n",
       "      <td>0.84</td>\n",
       "      <td>0.88</td>\n",
       "      <td>0.853333</td>\n",
       "      <td>0.018856</td>\n",
       "      <td>4</td>\n",
       "    </tr>\n",
       "  </tbody>\n",
       "</table>\n",
       "<p>360 rows × 19 columns</p>\n",
       "</div>"
      ],
      "text/plain": [
       "     mean_fit_time  std_fit_time  mean_score_time  std_score_time  \\\n",
       "0         0.319067      0.061408         0.084894        0.019879   \n",
       "1         0.368574      0.075724         0.090655        0.030559   \n",
       "2         0.300335      0.036720         0.073331        0.011146   \n",
       "3         0.366463      0.038040         0.121697        0.051906   \n",
       "4         0.336001      0.007116         0.078000        0.009199   \n",
       "..             ...           ...              ...             ...   \n",
       "355       0.097284      0.005384         0.010001        0.001632   \n",
       "356       0.105687      0.003432         0.011997        0.001737   \n",
       "357       0.083785      0.004638         0.012670        0.003858   \n",
       "358       0.086359      0.010451         0.009668        0.000943   \n",
       "359       0.121258      0.016014         0.010357        0.002030   \n",
       "\n",
       "                          param_clasificador      param_stemmer  \\\n",
       "0    RandomForestClassifier(random_state=42)  Stemmer_English()   \n",
       "1    RandomForestClassifier(random_state=42)  Stemmer_English()   \n",
       "2    RandomForestClassifier(random_state=42)  Stemmer_English()   \n",
       "3    RandomForestClassifier(random_state=42)  Stemmer_English()   \n",
       "4    RandomForestClassifier(random_state=42)  Stemmer_English()   \n",
       "..                                       ...                ...   \n",
       "355       LogisticRegression(max_iter=10000)               None   \n",
       "356       LogisticRegression(max_iter=10000)               None   \n",
       "357       LogisticRegression(max_iter=10000)               None   \n",
       "358       LogisticRegression(max_iter=10000)               None   \n",
       "359       LogisticRegression(max_iter=10000)               None   \n",
       "\n",
       "                          param_svd  \\\n",
       "0                              None   \n",
       "1                              None   \n",
       "2                              None   \n",
       "3    TruncatedSVD(n_components=100)   \n",
       "4    TruncatedSVD(n_components=100)   \n",
       "..                              ...   \n",
       "355  TruncatedSVD(n_components=100)   \n",
       "356  TruncatedSVD(n_components=100)   \n",
       "357  TruncatedSVD(n_components=150)   \n",
       "358  TruncatedSVD(n_components=150)   \n",
       "359  TruncatedSVD(n_components=150)   \n",
       "\n",
       "                                      param_vectorizer  \\\n",
       "0    TfidfVectorizer(stop_words=['i', 'me', 'my', '...   \n",
       "1    TfidfVectorizer(ngram_range=(2, 2),\\n         ...   \n",
       "2    TfidfVectorizer(ngram_range=(1, 2),\\n         ...   \n",
       "3    TfidfVectorizer(stop_words=['i', 'me', 'my', '...   \n",
       "4    TfidfVectorizer(ngram_range=(2, 2),\\n         ...   \n",
       "..                                                 ...   \n",
       "355  TfidfVectorizer(ngram_range=(2, 2),\\n         ...   \n",
       "356  TfidfVectorizer(ngram_range=(1, 2),\\n         ...   \n",
       "357  TfidfVectorizer(stop_words=['i', 'me', 'my', '...   \n",
       "358  TfidfVectorizer(ngram_range=(2, 2),\\n         ...   \n",
       "359  TfidfVectorizer(ngram_range=(1, 2),\\n         ...   \n",
       "\n",
       "    param_clasificador__alpha param_clasificador__C  \\\n",
       "0                         NaN                   NaN   \n",
       "1                         NaN                   NaN   \n",
       "2                         NaN                   NaN   \n",
       "3                         NaN                   NaN   \n",
       "4                         NaN                   NaN   \n",
       "..                        ...                   ...   \n",
       "355                       NaN                   NaN   \n",
       "356                       NaN                   NaN   \n",
       "357                       NaN                   NaN   \n",
       "358                       NaN                   NaN   \n",
       "359                       NaN                   NaN   \n",
       "\n",
       "    param_clasificador__penalty param_clasificador__solver  \\\n",
       "0                           NaN                        NaN   \n",
       "1                           NaN                        NaN   \n",
       "2                           NaN                        NaN   \n",
       "3                           NaN                        NaN   \n",
       "4                           NaN                        NaN   \n",
       "..                          ...                        ...   \n",
       "355                        none                       saga   \n",
       "356                        none                       saga   \n",
       "357                        none                       saga   \n",
       "358                        none                       saga   \n",
       "359                        none                       saga   \n",
       "\n",
       "                                                params  split0_test_score  \\\n",
       "0    {'clasificador': RandomForestClassifier(random...               0.84   \n",
       "1    {'clasificador': RandomForestClassifier(random...               0.84   \n",
       "2    {'clasificador': RandomForestClassifier(random...               0.84   \n",
       "3    {'clasificador': RandomForestClassifier(random...               0.84   \n",
       "4    {'clasificador': RandomForestClassifier(random...               0.84   \n",
       "..                                                 ...                ...   \n",
       "355  {'clasificador': LogisticRegression(max_iter=1...               0.84   \n",
       "356  {'clasificador': LogisticRegression(max_iter=1...               0.84   \n",
       "357  {'clasificador': LogisticRegression(max_iter=1...               0.84   \n",
       "358  {'clasificador': LogisticRegression(max_iter=1...               0.84   \n",
       "359  {'clasificador': LogisticRegression(max_iter=1...               0.84   \n",
       "\n",
       "     split1_test_score  split2_test_score  mean_test_score  std_test_score  \\\n",
       "0                 0.84               0.88         0.853333        0.018856   \n",
       "1                 0.84               0.88         0.853333        0.018856   \n",
       "2                 0.84               0.88         0.853333        0.018856   \n",
       "3                 0.84               0.88         0.853333        0.018856   \n",
       "4                 0.84               0.88         0.853333        0.018856   \n",
       "..                 ...                ...              ...             ...   \n",
       "355               0.84               0.88         0.853333        0.018856   \n",
       "356               0.84               0.88         0.853333        0.018856   \n",
       "357               0.84               0.88         0.853333        0.018856   \n",
       "358               0.84               0.88         0.853333        0.018856   \n",
       "359               0.84               0.88         0.853333        0.018856   \n",
       "\n",
       "     rank_test_score  \n",
       "0                  4  \n",
       "1                  4  \n",
       "2                  4  \n",
       "3                  4  \n",
       "4                  4  \n",
       "..               ...  \n",
       "355                4  \n",
       "356                4  \n",
       "357                4  \n",
       "358                4  \n",
       "359                4  \n",
       "\n",
       "[360 rows x 19 columns]"
      ]
     },
     "execution_count": 32,
     "metadata": {},
     "output_type": "execute_result"
    }
   ],
   "source": [
    "pd.DataFrame(grids[0].cv_results_)"
   ]
  },
  {
   "cell_type": "code",
   "execution_count": 33,
   "metadata": {},
   "outputs": [
    {
     "name": "stdout",
     "output_type": "stream",
     "text": [
      "0.8666666666666667\n",
      "{'clasificador': AdaBoostClassifier(algorithm='SAMME',\n",
      "                   base_estimator=DecisionTreeClassifier(max_depth=3),\n",
      "                   n_estimators=500), 'stemmer': None, 'svd': TruncatedSVD(n_components=100), 'vectorizer': TfidfVectorizer(stop_words=['i', 'me', 'my', 'myself', 'we', 'our', 'our',\n",
      "                            'ourselv', 'you', \"you'r\", \"you'v\", \"you'll\",\n",
      "                            \"you'd\", 'your', 'your', 'yourself', 'yourselv',\n",
      "                            'he', 'him', 'his', 'himself', 'she', 'she', 'her',\n",
      "                            'her', 'herself', 'it', 'it', 'it', 'itself', ...],\n",
      "                strip_accents='unicode')}\n"
     ]
    }
   ],
   "source": [
    "print(grid.best_score_)\n",
    "print(grid.best_params_)"
   ]
  },
  {
   "cell_type": "code",
   "execution_count": 34,
   "metadata": {},
   "outputs": [
    {
     "data": {
      "text/plain": [
       "Pipeline(steps=[('llenar_nulos',\n",
       "                 FillNa(columna_a_rellenar='Summary', relleno=' ')),\n",
       "                ('unir_columnas',\n",
       "                 UnirColumnas(columna1='Text', columna2='Summary')),\n",
       "                ('seleccionar_features',\n",
       "                 FeatureSelection(selected_features='Text Summary')),\n",
       "                ('stemmer', None),\n",
       "                ('vectorizer',\n",
       "                 TfidfVectorizer(stop_words=['i', 'me', 'my', 'myself', 'we',\n",
       "                                             'our', 'our', 'ourselv', 'you',\n",
       "                                             \"you'r\", \"you'v\", \"you'll\",\n",
       "                                             \"you'd\", 'your', 'your',\n",
       "                                             'yourself', 'yourselv', 'he',\n",
       "                                             'him', 'his', 'himself', 'she',\n",
       "                                             'she', 'her', 'her', 'herself',\n",
       "                                             'it', 'it', 'it', 'itself', ...],\n",
       "                                 strip_accents='unicode')),\n",
       "                ('svd', TruncatedSVD(n_components=100)),\n",
       "                ('clasificador',\n",
       "                 AdaBoostClassifier(algorithm='SAMME',\n",
       "                                    base_estimator=DecisionTreeClassifier(max_depth=3),\n",
       "                                    n_estimators=500))])"
      ]
     },
     "execution_count": 34,
     "metadata": {},
     "output_type": "execute_result"
    }
   ],
   "source": [
    "grid.best_estimator_\n",
    "#No me lo muestra como esquema."
   ]
  },
  {
   "cell_type": "code",
   "execution_count": 35,
   "metadata": {},
   "outputs": [],
   "source": [
    "y_pred = grid.predict(X_test)"
   ]
  },
  {
   "cell_type": "code",
   "execution_count": 36,
   "metadata": {},
   "outputs": [],
   "source": [
    "import pickle"
   ]
  },
  {
   "cell_type": "code",
   "execution_count": 37,
   "metadata": {},
   "outputs": [],
   "source": [
    "# with open('model_prueba.pkl', 'wb') as model_1:\n",
    "#     pickle.dump(grid, model_1)"
   ]
  },
  {
   "cell_type": "code",
   "execution_count": 38,
   "metadata": {},
   "outputs": [],
   "source": [
    "datos = {'Summary': [\"Great product!\"], 'Text': ['Best purchase ever made!']}\n",
    "datos=pd.DataFrame.from_dict(datos)"
   ]
  },
  {
   "cell_type": "code",
   "execution_count": 39,
   "metadata": {},
   "outputs": [
    {
     "data": {
      "text/plain": [
       "array([0], dtype=int64)"
      ]
     },
     "execution_count": 39,
     "metadata": {},
     "output_type": "execute_result"
    }
   ],
   "source": [
    "grid.predict(datos)"
   ]
  },
  {
   "cell_type": "code",
   "execution_count": 40,
   "metadata": {},
   "outputs": [
    {
     "data": {
      "text/plain": [
       "GridSearchCV(cv=StratifiedKFold(n_splits=3, random_state=42, shuffle=True),\n",
       "             estimator=Pipeline(steps=[('llenar_nulos',\n",
       "                                        FillNa(columna_a_rellenar='Summary',\n",
       "                                               relleno=' ')),\n",
       "                                       ('unir_columnas',\n",
       "                                        UnirColumnas(columna1='Text',\n",
       "                                                     columna2='Summary')),\n",
       "                                       ('seleccionar_features',\n",
       "                                        FeatureSelection(selected_features='Text '\n",
       "                                                                           'Summary')),\n",
       "                                       ('stemmer', Stemmer_English()),\n",
       "                                       ('vectorizer...\n",
       "                                                                     'herself',\n",
       "                                                                     'it', 'it',\n",
       "                                                                     'it',\n",
       "                                                                     'itself', ...],\n",
       "                                                         strip_accents='unicode'),\n",
       "                                         TfidfVectorizer(ngram_range=(1, 2),\n",
       "                                                         stop_words=['i', 'me',\n",
       "                                                                     'my',\n",
       "                                                                     'myself',\n",
       "                                                                     'we',\n",
       "                                                                     'our',\n",
       "                                                                     'our',\n",
       "                                                                     'ourselv',\n",
       "                                                                     'you',\n",
       "                                                                     \"you'r\",\n",
       "                                                                     \"you'v\",\n",
       "                                                                     \"you'll\",\n",
       "                                                                     \"you'd\",\n",
       "                                                                     'your',\n",
       "                                                                     'your',\n",
       "                                                                     'yourself',\n",
       "                                                                     'yourselv',\n",
       "                                                                     'he',\n",
       "                                                                     'him',\n",
       "                                                                     'his',\n",
       "                                                                     'himself',\n",
       "                                                                     'she',\n",
       "                                                                     'she',\n",
       "                                                                     'her',\n",
       "                                                                     'her',\n",
       "                                                                     'herself',\n",
       "                                                                     'it', 'it',\n",
       "                                                                     'it',\n",
       "                                                                     'itself', ...],\n",
       "                                                         strip_accents='unicode')]}])"
      ]
     },
     "execution_count": 40,
     "metadata": {},
     "output_type": "execute_result"
    }
   ],
   "source": [
    "grid"
   ]
  },
  {
   "cell_type": "code",
   "execution_count": 41,
   "metadata": {},
   "outputs": [
    {
     "data": {
      "text/plain": [
       "array([0, 0, 0, 0, 0, 0, 0, 0, 0, 0, 0, 0, 0, 0, 0, 0, 0, 0, 0, 0, 0, 0,\n",
       "       0, 0, 0], dtype=int64)"
      ]
     },
     "execution_count": 41,
     "metadata": {},
     "output_type": "execute_result"
    }
   ],
   "source": [
    "y_pred"
   ]
  },
  {
   "cell_type": "code",
   "execution_count": 42,
   "metadata": {},
   "outputs": [
    {
     "name": "stdout",
     "output_type": "stream",
     "text": [
      "              precision    recall  f1-score   support\n",
      "\n",
      "           0       0.84      1.00      0.91        21\n",
      "           1       0.00      0.00      0.00         4\n",
      "\n",
      "    accuracy                           0.84        25\n",
      "   macro avg       0.42      0.50      0.46        25\n",
      "weighted avg       0.71      0.84      0.77        25\n",
      "\n"
     ]
    },
    {
     "name": "stderr",
     "output_type": "stream",
     "text": [
      "c:\\Users\\Usuario\\anaconda3\\envs\\dhdsblend2021\\lib\\site-packages\\sklearn\\metrics\\_classification.py:1221: UndefinedMetricWarning: Precision and F-score are ill-defined and being set to 0.0 in labels with no predicted samples. Use `zero_division` parameter to control this behavior.\n",
      "  _warn_prf(average, modifier, msg_start, len(result))\n"
     ]
    }
   ],
   "source": [
    "print(classification_report(y_test, y_pred))"
   ]
  },
  {
   "cell_type": "code",
   "execution_count": 43,
   "metadata": {},
   "outputs": [
    {
     "name": "stdout",
     "output_type": "stream",
     "text": [
      "0.84\n"
     ]
    }
   ],
   "source": [
    "print(accuracy_score(y_test, y_pred))"
   ]
  },
  {
   "cell_type": "code",
   "execution_count": 44,
   "metadata": {},
   "outputs": [
    {
     "data": {
      "image/png": "[encoded data removed]",
      "text/plain": [
       "<Figure size 500x200 with 2 Axes>"
      ]
     },
     "metadata": {},
     "output_type": "display_data"
    }
   ],
   "source": [
    "conf_matrix = confusion_matrix(y_test, y_pred); \n",
    "plt.figure(figsize=(5, 2)); sns.heatmap(conf_matrix,  annot=True, fmt=\"d\");\n",
    "plt.title(\"Confusion matrix\"); plt.ylabel('True class'); plt.xlabel('Predicted class');plt.show()"
   ]
  },
  {
   "attachments": {},
   "cell_type": "markdown",
   "metadata": {},
   "source": [
    "Ver recall? Para eso, abrir otra vez el archivo (con otro nombre), agregar scoring=\"recall\" en el Grid y correr otra vez."
   ]
  },
  {
   "attachments": {},
   "cell_type": "markdown",
   "metadata": {},
   "source": [
    "<hr>"
   ]
  }
 ],
 "metadata": {
  "kernelspec": {
   "display_name": "dhdsblend2021",
   "language": "python",
   "name": "python3"
  },
  "language_info": {
   "codemirror_mode": {
    "name": "ipython",
    "version": 3
   },
   "file_extension": ".py",
   "mimetype": "text/x-python",
   "name": "python",
   "nbconvert_exporter": "python",
   "pygments_lexer": "ipython3",
   "version": "3.8.13"
  },
  "orig_nbformat": 4,
  "vscode": {
   "interpreter": {
    "hash": "856239bb05a53c493dac6d006e41af7b8adf809228617cfee2cdebcf9766968c"
   }
  }
 },
 "nbformat": 4,
 "nbformat_minor": 2
}
